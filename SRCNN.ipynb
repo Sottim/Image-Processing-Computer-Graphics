{
 "cells": [
  {
   "cell_type": "code",
   "execution_count": 1,
   "metadata": {},
   "outputs": [],
   "source": [
    "import torch\n",
    "import torch.nn as nn\n",
    "import torch.optim as optim\n",
    "import torchvision.transforms as transforms\n",
    "#from skimage.metrics import structural_similarity as ssim\n",
    "\n",
    "import cv2\n",
    "import numpy as np\n",
    "import math\n",
    "import os\n",
    "import matplotlib.pyplot as plt\n",
    "%matplotlib inline\n",
    "\n",
    "from PIL import Image, ImageFilter\n",
    "from model import SRCNN\n"
   ]
  },
  {
   "cell_type": "code",
   "execution_count": 2,
   "metadata": {},
   "outputs": [],
   "source": [
    "# Define a function for peak signal-to-noise ratio (PSNR)\n",
    "def psnr(target, ref):\n",
    "    # Convert images to torch tensors\n",
    "    target_data = torch.tensor(target, dtype=torch.float)\n",
    "    ref_data = torch.tensor(ref, dtype=torch.float)\n",
    "    \n",
    "    # Calculate the squared difference between the two images\n",
    "    diff = ref_data - target_data\n",
    "    mse = torch.mean(diff ** 2)\n",
    "    \n",
    "    # Calculate PSNR\n",
    "    psnr_value = 20 * torch.log10(255. / torch.sqrt(mse))\n",
    "    \n",
    "    return psnr_value.item()\n",
    "\n",
    "# Define function for mean squared error (MSE)\n",
    "def mse(target, ref):\n",
    "    # Convert images to torch tensors\n",
    "    target_data = torch.tensor(target, dtype=torch.float)\n",
    "    ref_data = torch.tensor(ref, dtype=torch.float)\n",
    "    \n",
    "    # Calculate the squared difference between the two images\n",
    "    diff = ref_data - target_data\n",
    "    mse_value = torch.mean(diff ** 2)\n",
    "    \n",
    "    return mse_value.item()\n",
    "\n",
    "# Define function that combines all three image quality metrics\n",
    "def compare_images(target, ref):\n",
    "    scores = []\n",
    "    scores.append(psnr(target, ref))\n",
    "    scores.append(mse(target, ref))\n",
    "    \n",
    "    return scores\n"
   ]
  },
  {
   "cell_type": "markdown",
   "metadata": {},
   "source": [
    "#### Super Resolution Convolution Neural Network (SRCNN) Model\n",
    "1) Explain the achitecture and hyper parameters of the SRCNN network from the original paper\n",
    "2) "
   ]
  },
  {
   "cell_type": "code",
   "execution_count": 5,
   "metadata": {},
   "outputs": [],
   "source": [
    "# Instantiate the model\n",
    "model = SRCNN()\n",
    "\n",
    "# Define the optimizer\n",
    "optimizer = optim.Adam(model.parameters(), lr=0.0003)\n",
    "# Define the loss function\n",
    "criterion = nn.MSELoss()"
   ]
  },
  {
   "cell_type": "markdown",
   "metadata": {},
   "source": [
    "#### Next approach "
   ]
  },
  {
   "cell_type": "code",
   "execution_count": null,
   "metadata": {},
   "outputs": [],
   "source": []
  }
 ],
 "metadata": {
  "kernelspec": {
   "display_name": "DL",
   "language": "python",
   "name": "python3"
  },
  "language_info": {
   "codemirror_mode": {
    "name": "ipython",
    "version": 3
   },
   "file_extension": ".py",
   "mimetype": "text/x-python",
   "name": "python",
   "nbconvert_exporter": "python",
   "pygments_lexer": "ipython3",
   "version": "3.12.2"
  }
 },
 "nbformat": 4,
 "nbformat_minor": 2
}
