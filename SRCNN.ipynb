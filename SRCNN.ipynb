{
 "cells": [
  {
   "cell_type": "code",
   "execution_count": 11,
   "metadata": {},
   "outputs": [],
   "source": [
    "import torch\n",
    "import torch.nn as nn\n",
    "import torch.optim as optim\n",
    "import torchvision.transforms as transforms\n",
    "#from skimage.metrics import structural_similarity as ssim\n",
    "\n",
    "import cv2\n",
    "import numpy as np\n",
    "import math\n",
    "import os\n",
    "import matplotlib.pyplot as plt\n",
    "%matplotlib inline\n",
    "\n",
    "from PIL import Image, ImageFilter\n",
    "from model import SRCNN\n"
   ]
  },
  {
   "cell_type": "code",
   "execution_count": 12,
   "metadata": {},
   "outputs": [],
   "source": [
    "# Define a function for peak signal-to-noise ratio (PSNR)\n",
    "def psnr(target, ref):\n",
    "    # Convert images to torch tensors\n",
    "    target_data = torch.tensor(target, dtype=torch.float)\n",
    "    ref_data = torch.tensor(ref, dtype=torch.float)\n",
    "    \n",
    "    # Calculate the squared difference between the two images\n",
    "    diff = ref_data - target_data\n",
    "    mse = torch.mean(diff ** 2)\n",
    "    \n",
    "    # Calculate PSNR\n",
    "    psnr_value = 20 * torch.log10(255. / torch.sqrt(mse))\n",
    "    \n",
    "    return psnr_value.item()\n",
    "\n",
    "# Define function for mean squared error (MSE)\n",
    "def mse(target, ref):\n",
    "    # Convert images to torch tensors\n",
    "    target_data = torch.tensor(target, dtype=torch.float)\n",
    "    ref_data = torch.tensor(ref, dtype=torch.float)\n",
    "    \n",
    "    # Calculate the squared difference between the two images\n",
    "    diff = ref_data - target_data\n",
    "    mse_value = torch.mean(diff ** 2)\n",
    "    \n",
    "    return mse_value.item()\n",
    "\n",
    "# Define function that combines all three image quality metrics\n",
    "def compare_images(target, ref):\n",
    "    scores = []\n",
    "    scores.append(psnr(target, ref))\n",
    "    scores.append(mse(target, ref))\n",
    "    \n",
    "    return scores\n"
   ]
  },
  {
   "cell_type": "markdown",
   "metadata": {},
   "source": [
    "#### Super Resolution Convolution Neural Network (SRCNN) Model\n",
    "1) Explain the achitecture and hyper parameters of the SRCNN network from the original paper\n",
    "2) "
   ]
  },
  {
   "cell_type": "code",
   "execution_count": 13,
   "metadata": {},
   "outputs": [
    {
     "name": "stdout",
     "output_type": "stream",
     "text": [
      "SRCNN(\n",
      "  (conv1): Conv2d(1, 128, kernel_size=(9, 9), stride=(1, 1))\n",
      "  (conv2): Conv2d(128, 64, kernel_size=(3, 3), stride=(1, 1), padding=(1, 1))\n",
      "  (conv3): Conv2d(64, 1, kernel_size=(5, 5), stride=(1, 1))\n",
      "  (relu): ReLU()\n",
      ")\n"
     ]
    }
   ],
   "source": [
    "# Instantiate the model\n",
    "model = SRCNN()\n",
    "\n",
    "optimizer = optim.Adam(model.parameters(), lr=0.0003)\n",
    "criterion = nn.MSELoss()\n",
    "\n",
    "print(model)\n"
   ]
  },
  {
   "cell_type": "code",
   "execution_count": 15,
   "metadata": {},
   "outputs": [
    {
     "name": "stdout",
     "output_type": "stream",
     "text": [
      "Train Dataset:\n",
      "Sample 0:\n",
      "Data Shape: (1, 32, 32)\n",
      "Label Shape: (1, 20, 20)\n"
     ]
    }
   ],
   "source": [
    "import h5py\n",
    "import torch\n",
    "from torch.utils.data import Dataset, DataLoader\n",
    "\n",
    "class HDF5Dataset(Dataset):\n",
    "    def __init__(self, file_path):\n",
    "        self.file = h5py.File(file_path, 'r')\n",
    "        self.data = self.file['data']\n",
    "        self.label = self.file['label']\n",
    "\n",
    "    def __len__(self):\n",
    "        return len(self.data)\n",
    "\n",
    "    def __getitem__(self, idx):\n",
    "        data = self.data[idx][0]  # Squeeze the batch dimension\n",
    "        label = self.label[idx][0]  # Squeeze the batch dimension\n",
    "        return data, label\n",
    "\n",
    "train_dataset = HDF5Dataset('train_data.h5')\n",
    "test_dataset = HDF5Dataset('test_data.h5')\n",
    "\n",
    "# View contents of train_dataset\n",
    "print(\"Train Dataset:\")\n",
    "for i in range(len(train_dataset)):\n",
    "    data, label = train_dataset[i]\n",
    "    print(f\"Sample {i}:\")\n",
    "    print(\"Data Shape:\", data.shape)\n",
    "    print(\"Label Shape:\", label.shape)\n",
    "    \n",
    "    break\n",
    "\n"
   ]
  },
  {
   "cell_type": "markdown",
   "metadata": {},
   "source": [
    "### Defining the Dataloader"
   ]
  },
  {
   "cell_type": "code",
   "execution_count": 16,
   "metadata": {},
   "outputs": [
    {
     "name": "stdout",
     "output_type": "stream",
     "text": [
      "Batch Input Shape: torch.Size([1, 1, 32, 32]), Batch Label Shape: torch.Size([1, 1, 20, 20])\n"
     ]
    }
   ],
   "source": [
    "train_loader = DataLoader(train_dataset, shuffle=True)\n",
    "test_loader = DataLoader(test_dataset, shuffle=False)\n",
    "\n",
    "# Print the shape of batches in train_loader\n",
    "for inputs, labels in train_loader:\n",
    "    print(f\"Batch Input Shape: {inputs.shape}, Batch Label Shape: {labels.shape}\")\n",
    "    break"
   ]
  },
  {
   "cell_type": "markdown",
   "metadata": {},
   "source": [
    "#### Training process"
   ]
  },
  {
   "cell_type": "code",
   "execution_count": null,
   "metadata": {},
   "outputs": [],
   "source": [
    "num_epochs = 10\n",
    "batch_size = 64\n",
    "\n",
    "for epoch in range(num_epochs):\n",
    "    model.train()\n",
    "    running_loss = 0.0\n",
    "    for i, (inputs, labels) in enumerate(train_loader):\n",
    "        optimizer.zero_grad()\n",
    "        outputs = model(inputs)\n",
    "        loss = criterion(outputs, labels)\n",
    "        loss.backward()\n",
    "        optimizer.step()\n",
    "        running_loss += loss.item()\n",
    "        \n",
    "    # Print the average loss for the epoch\n",
    "    print('[Epoch %d] Average Loss: %.3f' % (epoch + 1, running_loss / len(train_loader)))\n",
    "    break\n",
    "\n",
    "\n",
    "print('Finished Training')\n"
   ]
  },
  {
   "cell_type": "code",
   "execution_count": null,
   "metadata": {},
   "outputs": [],
   "source": []
  }
 ],
 "metadata": {
  "kernelspec": {
   "display_name": "DL",
   "language": "python",
   "name": "python3"
  },
  "language_info": {
   "codemirror_mode": {
    "name": "ipython",
    "version": 3
   },
   "file_extension": ".py",
   "mimetype": "text/x-python",
   "name": "python",
   "nbconvert_exporter": "python",
   "pygments_lexer": "ipython3",
   "version": "3.12.2"
  }
 },
 "nbformat": 4,
 "nbformat_minor": 2
}
